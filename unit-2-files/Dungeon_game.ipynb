{
 "cells": [
  {
   "cell_type": "code",
   "execution_count": 4,
   "metadata": {},
   "outputs": [
    {
     "name": "stdout",
     "output_type": "stream",
     "text": [
      "Welcome to the Dungeon!\n",
      "Press return to start\n",
      " - - - - -\n",
      "|_|_|_|_|_|\n",
      "|_|_|_|_|_|\n",
      "|_|_|_|_|_|\n",
      "|_|_|_|_|_|\n",
      "|_|X|_|_|_|\n",
      "You are currently in room (1, 4)\n",
      "You can move LEFT, RIGHT, UP\n",
      "Enter QUIT to quit\n",
      "> quit\n",
      "\n",
      " ** See you next time ** \n",
      "\n"
     ]
    }
   ],
   "source": [
    "import random\n",
    "import os\n",
    "\n",
    "CELLS = [(0,0),(1,0),(2,0),(3,0),(4,0),\n",
    "         (0,1),(1,1),(2,1),(3,1),(4,1),\n",
    "         (0,2),(1,2),(2,2),(3,2),(4,2),\n",
    "         (0,3),(1,3),(2,3),(3,3),(4,3),\n",
    "         (0,4),(1,4),(2,4),(3,4),(4,4)\n",
    "        ]\n",
    "\n",
    "def clear_screen():\n",
    "    os.system('cls' if os.name == \"nt\" else 'clear')\n",
    "def get_locations():\n",
    "    return random.sample(CELLS,3)\n",
    "    \n",
    "def move_player(player,move):\n",
    "    x,y= player\n",
    "    if move == 'LEFT':\n",
    "        x -= 1\n",
    "    if move == 'RIGHT':\n",
    "        x +=1\n",
    "    if move == \"UP\":\n",
    "        y -= 1\n",
    "    if move == 'DOWN':\n",
    "        y += 1\n",
    "    return x,y\n",
    "\n",
    "def get_moves(player):\n",
    "    moves = ['LEFT','RIGHT','UP','DOWN']\n",
    "    x,y = player\n",
    "    if x==0:\n",
    "        moves.remove('LEFT')\n",
    "    if x==4:\n",
    "        moves.remove('RIGHT')\n",
    "    if y==0:\n",
    "        moves.remove('UP')\n",
    "    if y==4:\n",
    "        moves.remove('DOWN')\n",
    "    return moves\n",
    "\n",
    "def draw_map(player):\n",
    "    print(\" -\"*5)\n",
    "    tile = \"|{}\"\n",
    "    \n",
    "    for cell in CELLS:\n",
    "        x,y = cell\n",
    "        if x < 4:\n",
    "            line_end = \"\"\n",
    "            if cell == player:\n",
    "                output = tile.format(\"X\")\n",
    "            else:\n",
    "                output = tile.format(\"_\")\n",
    "        \n",
    "        else:\n",
    "            line_end = \"\\n\"\n",
    "            if cell == player:\n",
    "                output = tile.format(\"X|\")\n",
    "            else:\n",
    "                output = tile.format(\"_|\")\n",
    "        print(output, end = line_end)\n",
    "\n",
    "def game_loop():\n",
    "    door,monster,player = get_locations()\n",
    "    playing  = True\n",
    "    while playing:\n",
    "        clear_screen()\n",
    "        draw_map(player)\n",
    "        valid_moves = get_moves(player)\n",
    "        \n",
    "        print(\"You are currently in room {}\".format(player))\n",
    "        print(\"You can move {}\".format(\", \".join(valid_moves)))\n",
    "        print(\"Enter QUIT to quit\")\n",
    "    \n",
    "        move = input(\"> \")\n",
    "        move = move.upper()\n",
    "    \n",
    "        if move == \"QUIT\":\n",
    "            print('\\n ** See you next time ** \\n')\n",
    "            break\n",
    "        if move in valid_moves:\n",
    "            player = move_player(player,move)\n",
    "            \n",
    "            if player == monster:\n",
    "                print(\"\\n **Oh no! The monster got you** \\n\")\n",
    "                playing = False\n",
    "            if player == door:\n",
    "                print(\"\\n **Congratulations!** \\n\")\n",
    "                playing = False\n",
    "        else:\n",
    "            input(\"\\n ** Walls are hard! Don't run into them! \\n\")\n",
    "    else:\n",
    "        if input(\"Play again? [Y/n] \").lower() != \"n\":\n",
    "            game_loop()\n",
    "        clear_screen()\n",
    "\n",
    "clear_screen()\n",
    "print(\"Welcome to the Dungeon!\")\n",
    "input(\"Press return to start\")\n",
    "clear_screen()\n",
    "game_loop()"
   ]
  },
  {
   "cell_type": "code",
   "execution_count": 5,
   "metadata": {},
   "outputs": [
    {
     "data": {
      "text/plain": [
       "[(1, 3), (4, 2), (3, 0)]"
      ]
     },
     "execution_count": 5,
     "metadata": {},
     "output_type": "execute_result"
    }
   ],
   "source": [
    "get_locations(CELLS)"
   ]
  },
  {
   "cell_type": "code",
   "execution_count": 14,
   "metadata": {},
   "outputs": [],
   "source": [
    "# EXAMPLES:\n",
    "# move((1, 1, 10), (-1, 0)) => (0, 1, 10)\n",
    "# move((0, 1, 10), (-1, 0)) => (0, 1, 5)\n",
    "# move((0, 9, 5), (0, 1)) => (0, 9, 0)\n",
    "\n",
    "CELLS = [(0,0),(1,0),(2,0),(3,0),(4,0),\n",
    "         (0,1),(1,1),(2,1),(3,1),(4,1),\n",
    "         (0,2),(1,2),(2,2),(3,2),(4,2),\n",
    "         (0,3),(1,3),(2,3),(3,3),(4,3),\n",
    "         (0,4),(1,4),(2,4),(3,4),(4,4)\n",
    "        ]\n",
    "\n",
    "def move(player, direction):\n",
    "    x, y, hp = player\n",
    "    m,n = direction\n",
    "    if (x+m)>0:\n",
    "        hp = hp\n",
    "        x = x + m \n",
    "        y = y + n\n",
    "    elif (x + m) < 0:\n",
    "        hp = hp-5\n",
    "        x = x\n",
    "        y = y\n",
    "    elif (y+n) > 9:\n",
    "        hp = hp - 5\n",
    "        y = y\n",
    "        x = x\n",
    "    elif (y+n)< 9:\n",
    "        hp = hp\n",
    "        x = x+m\n",
    "        y = y+n\n",
    "        \n",
    "   \n",
    "    \n",
    "    return x, y, hp"
   ]
  },
  {
   "cell_type": "code",
   "execution_count": 15,
   "metadata": {},
   "outputs": [
    {
     "data": {
      "text/plain": [
       "(0, 1, 5)"
      ]
     },
     "execution_count": 15,
     "metadata": {},
     "output_type": "execute_result"
    }
   ],
   "source": [
    "move((0,1,10),(-1,0))"
   ]
  },
  {
   "cell_type": "code",
   "execution_count": null,
   "metadata": {},
   "outputs": [],
   "source": [
    "TILES = ('-', ' ', '-', ' ', '-', '||',\n",
    "         '_', '|', '_', '|', '_', '|', '||',\n",
    "         '&', ' ', '_', ' ', '||',\n",
    "         ' ', ' ', ' ', '^', ' ', '||'\n",
    ")\n",
    "\n",
    "for tile in TILES:\n",
    "    \n",
    "    t = \"{}\"\n",
    "    if tile != '||':\n",
    "        line_end = \"\"\n",
    "        output = t.format(tile)\n",
    "    else:\n",
    "        line_end = \"\\n\"\n",
    "        output = t.format(\"\\n\")\n",
    "\n",
    "    print(output, end=line_end)\n",
    "        \n"
   ]
  }
 ],
 "metadata": {
  "kernelspec": {
   "display_name": "Python 3",
   "language": "python",
   "name": "python3"
  },
  "language_info": {
   "codemirror_mode": {
    "name": "ipython",
    "version": 3
   },
   "file_extension": ".py",
   "mimetype": "text/x-python",
   "name": "python",
   "nbconvert_exporter": "python",
   "pygments_lexer": "ipython3",
   "version": "3.6.5"
  }
 },
 "nbformat": 4,
 "nbformat_minor": 2
}
