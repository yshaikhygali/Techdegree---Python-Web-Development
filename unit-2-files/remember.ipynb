{
 "cells": [
  {
   "cell_type": "code",
   "execution_count": null,
   "metadata": {},
   "outputs": [],
   "source": [
    "import sys\n",
    "\n",
    "def remember(thing):\n",
    "    with open(\"data.txt\",\"a\") as file:\n",
    "        file.write(thing + \"\\n\")\n",
    "\n",
    "def show():\n",
    "    # open file\n",
    "    with open('data.txt') as file:\n",
    "        for line in file:\n",
    "            print(line)\n",
    "\n",
    "if __name__ == '__main__':\n",
    "    if sys.argv[1].lower() =='--list':\n",
    "    # sys.argv --> all of your arguments after file name\n",
    "        show()\n",
    "    else:\n",
    "        remember(' '.join(sys.argv[1:]))\n",
    "    "
   ]
  }
 ],
 "metadata": {
  "kernelspec": {
   "display_name": "Python 3",
   "language": "python",
   "name": "python3"
  },
  "language_info": {
   "codemirror_mode": {
    "name": "ipython",
    "version": 3
   },
   "file_extension": ".py",
   "mimetype": "text/x-python",
   "name": "python",
   "nbconvert_exporter": "python",
   "pygments_lexer": "ipython3",
   "version": "3.6.5"
  }
 },
 "nbformat": 4,
 "nbformat_minor": 2
}
