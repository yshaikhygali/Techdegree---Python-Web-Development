{
 "cells": [
  {
   "cell_type": "code",
   "execution_count": 10,
   "metadata": {},
   "outputs": [
    {
     "name": "stdout",
     "output_type": "stream",
     "text": [
      "What should I remember? sweater\n"
     ]
    }
   ],
   "source": [
    "def rememberer(thing):\n",
    "    file = open(\"database.txt\",\"a\")\n",
    "    file.write(thing + \"\\n\")\n",
    "    file.close()\n",
    "\n",
    "if __name__ == '__main__':\n",
    "    rememberer(input(\"What should I remember? \"))\n",
    "    \n",
    "\n",
    "    "
   ]
  },
  {
   "cell_type": "code",
   "execution_count": 1,
   "metadata": {},
   "outputs": [],
   "source": [
    "import sys\n",
    "\n",
    "def remember(thing):\n",
    "    with open(\"data.txt\",\"a\") as file:\n",
    "        file.write(thing + \"\\n\")\n",
    "\n",
    "\n",
    "if __name__ == '__main__':\n",
    "    if sys.argv[1].lower() =='--list':\n",
    "    # sys.argv --> all of your arguments after file name\n",
    "        show()\n",
    "    else:\n",
    "        remember(' '.join(sys.argv[1:]))\n",
    "    \n",
    "# python remember.py (argv[0]) juice (argv[1]) boxes(argv[2])\n",
    "#"
   ]
  },
  {
   "cell_type": "code",
   "execution_count": 2,
   "metadata": {},
   "outputs": [],
   "source": [
    "def show():\n",
    "    # open file\n",
    "    with open('data.txt') as file:\n",
    "        for line in file:\n",
    "            print(line)\n"
   ]
  },
  {
   "cell_type": "code",
   "execution_count": 16,
   "metadata": {},
   "outputs": [
    {
     "data": {
      "text/plain": [
       "'orange jui'"
      ]
     },
     "execution_count": 16,
     "metadata": {},
     "output_type": "execute_result"
    }
   ],
   "source": [
    "file = open('database.txt')\n",
    "file.read(10)\n",
    "# read 10 bites\n"
   ]
  },
  {
   "cell_type": "code",
   "execution_count": 18,
   "metadata": {},
   "outputs": [
    {
     "data": {
      "text/plain": [
       "'ce\\nmilk\\nA sweater\\nA sword\\njuice boxes\\napples\\napplenjuice\\napplen--list\\n'"
      ]
     },
     "execution_count": 18,
     "metadata": {},
     "output_type": "execute_result"
    }
   ],
   "source": [
    "file.read()"
   ]
  },
  {
   "cell_type": "code",
   "execution_count": 8,
   "metadata": {},
   "outputs": [
    {
     "data": {
      "text/plain": [
       "'Apples\\nMilk\\nOrange juice\\nsweater'"
      ]
     },
     "execution_count": 8,
     "metadata": {},
     "output_type": "execute_result"
    }
   ],
   "source": [
    "file = open('database.txt')\n",
    "file.read()\n",
    "# read entire file\n",
    "# or file.read(-1)"
   ]
  },
  {
   "cell_type": "code",
   "execution_count": 21,
   "metadata": {},
   "outputs": [
    {
     "data": {
      "text/plain": [
       "3"
      ]
     },
     "execution_count": 21,
     "metadata": {},
     "output_type": "execute_result"
    }
   ],
   "source": [
    "file.seek(3)"
   ]
  },
  {
   "cell_type": "code",
   "execution_count": 22,
   "metadata": {},
   "outputs": [
    {
     "data": {
      "text/plain": [
       "'nge juice\\n'"
      ]
     },
     "execution_count": 22,
     "metadata": {},
     "output_type": "execute_result"
    }
   ],
   "source": [
    "file.read(10)"
   ]
  },
  {
   "cell_type": "code",
   "execution_count": 10,
   "metadata": {},
   "outputs": [
    {
     "data": {
      "text/plain": [
       "8"
      ]
     },
     "execution_count": 10,
     "metadata": {},
     "output_type": "execute_result"
    }
   ],
   "source": [
    "lines = file.readlines()\n",
    "len(lines)"
   ]
  },
  {
   "cell_type": "code",
   "execution_count": 11,
   "metadata": {},
   "outputs": [
    {
     "name": "stdout",
     "output_type": "stream",
     "text": [
      "\n",
      "eciuj eg\n",
      "\n",
      "klim\n",
      "\n",
      "retaews A\n",
      "\n",
      "drows A\n",
      "\n",
      "sexob eciuj\n",
      "\n",
      "selppa\n",
      "\n",
      "eciujnelppa\n",
      "\n",
      "tsil--nelppa\n"
     ]
    }
   ],
   "source": [
    "for line in lines:\n",
    "    print(line[::-1])"
   ]
  },
  {
   "cell_type": "code",
   "execution_count": null,
   "metadata": {},
   "outputs": [],
   "source": []
  }
 ],
 "metadata": {
  "kernelspec": {
   "display_name": "Python 3",
   "language": "python",
   "name": "python3"
  },
  "language_info": {
   "codemirror_mode": {
    "name": "ipython",
    "version": 3
   },
   "file_extension": ".py",
   "mimetype": "text/x-python",
   "name": "python",
   "nbconvert_exporter": "python",
   "pygments_lexer": "ipython3",
   "version": "3.6.5"
  }
 },
 "nbformat": 4,
 "nbformat_minor": 2
}
