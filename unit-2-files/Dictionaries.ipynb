{
 "cells": [
  {
   "cell_type": "code",
   "execution_count": 2,
   "metadata": {},
   "outputs": [
    {
     "data": {
      "text/plain": [
       "{'title': 'Python Collections'}"
      ]
     },
     "execution_count": 2,
     "metadata": {},
     "output_type": "execute_result"
    }
   ],
   "source": [
    "course = {\"title\":\"Python Collections\"}\n",
    "course"
   ]
  },
  {
   "cell_type": "code",
   "execution_count": 3,
   "metadata": {},
   "outputs": [
    {
     "data": {
      "text/plain": [
       "'Python Collections'"
      ]
     },
     "execution_count": 3,
     "metadata": {},
     "output_type": "execute_result"
    }
   ],
   "source": [
    "course['title']"
   ]
  },
  {
   "cell_type": "code",
   "execution_count": 6,
   "metadata": {},
   "outputs": [
    {
     "data": {
      "text/plain": [
       "{'name': 'Kenneth', 'surname': 'Ben'}"
      ]
     },
     "execution_count": 6,
     "metadata": {},
     "output_type": "execute_result"
    }
   ],
   "source": [
    "dict([['name', 'Kenneth'], ['surname','Ben']])\n"
   ]
  },
  {
   "cell_type": "code",
   "execution_count": 9,
   "metadata": {},
   "outputs": [],
   "source": [
    "course = {'title':'Python collections', 'teacher': {'first_name':'Kenneth','last name':'Love'}}"
   ]
  },
  {
   "cell_type": "code",
   "execution_count": 11,
   "metadata": {},
   "outputs": [
    {
     "data": {
      "text/plain": [
       "'Kenneth'"
      ]
     },
     "execution_count": 11,
     "metadata": {},
     "output_type": "execute_result"
    }
   ],
   "source": [
    "course['teacher']['first_name']"
   ]
  },
  {
   "cell_type": "code",
   "execution_count": 15,
   "metadata": {},
   "outputs": [],
   "source": [
    "yerlan = {'job':'pythonist','from':'Petropavl'}"
   ]
  },
  {
   "cell_type": "code",
   "execution_count": 16,
   "metadata": {},
   "outputs": [],
   "source": [
    "yerlan['where'] = 'Astana'\n",
    "# adding or updating information"
   ]
  },
  {
   "cell_type": "code",
   "execution_count": 17,
   "metadata": {},
   "outputs": [
    {
     "data": {
      "text/plain": [
       "{'job': 'pythonist', 'from': 'Petropavl', 'where': 'Astana'}"
      ]
     },
     "execution_count": 17,
     "metadata": {},
     "output_type": "execute_result"
    }
   ],
   "source": [
    "yerlan"
   ]
  },
  {
   "cell_type": "code",
   "execution_count": 18,
   "metadata": {},
   "outputs": [],
   "source": [
    "yerlan.update({'job':'data engineer','hobby':'marathon running','music':'calm'})\n",
    "# UPDATE function"
   ]
  },
  {
   "cell_type": "code",
   "execution_count": 19,
   "metadata": {},
   "outputs": [
    {
     "data": {
      "text/plain": [
       "{'job': 'data engineer',\n",
       " 'from': 'Petropavl',\n",
       " 'where': 'Astana',\n",
       " 'hobby': 'marathon running',\n",
       " 'music': 'calm'}"
      ]
     },
     "execution_count": 19,
     "metadata": {},
     "output_type": "execute_result"
    }
   ],
   "source": [
    "yerlan"
   ]
  },
  {
   "cell_type": "code",
   "execution_count": 20,
   "metadata": {},
   "outputs": [],
   "source": [
    "del yerlan['music']"
   ]
  },
  {
   "cell_type": "code",
   "execution_count": 21,
   "metadata": {},
   "outputs": [
    {
     "data": {
      "text/plain": [
       "{'job': 'data engineer',\n",
       " 'from': 'Petropavl',\n",
       " 'where': 'Astana',\n",
       " 'hobby': 'marathon running'}"
      ]
     },
     "execution_count": 21,
     "metadata": {},
     "output_type": "execute_result"
    }
   ],
   "source": [
    "yerlan"
   ]
  },
  {
   "cell_type": "code",
   "execution_count": 22,
   "metadata": {},
   "outputs": [
    {
     "data": {
      "text/plain": [
       "3"
      ]
     },
     "execution_count": 22,
     "metadata": {},
     "output_type": "execute_result"
    }
   ],
   "source": [
    "test_dict = {\"a\": 1, \"b\": 2, \"a\": 3}\n",
    "test_dict[\"a\"]\n",
    "#It'll be 3 because the keys are created in order. First it's 1 and then the 3 is assigned later."
   ]
  },
  {
   "cell_type": "markdown",
   "metadata": {},
   "source": [
    "# Packing and Unpacking dictionaries"
   ]
  },
  {
   "cell_type": "code",
   "execution_count": 2,
   "metadata": {},
   "outputs": [
    {
     "name": "stdout",
     "output_type": "stream",
     "text": [
      "{'num': 42, 'spanish_inquisition': None}\n"
     ]
    }
   ],
   "source": [
    "def packer(name=None,**kwargs):\n",
    "    print(kwargs)\n",
    "# kwargs ==> keyword arguments\n",
    "# PACKING INTO DICTIONARIES\n",
    "packer(name = \"Yerlan\", num = 42, spanish_inquisition = None)"
   ]
  },
  {
   "cell_type": "code",
   "execution_count": 5,
   "metadata": {},
   "outputs": [
    {
     "name": "stdout",
     "output_type": "stream",
     "text": [
      "{'name': 'Yerlan', 'num': 42, 'spanish_inquisition': None}\n"
     ]
    }
   ],
   "source": [
    "def packer(**kwargs):\n",
    "    print(kwargs)\n",
    "# kwargs ==> keyword arguments\n",
    "# PACKING INTO DICTIONARIES\n",
    "packer(name = \"Yerlan\", num = 42, spanish_inquisition = None)"
   ]
  },
  {
   "cell_type": "code",
   "execution_count": 6,
   "metadata": {},
   "outputs": [
    {
     "name": "stdout",
     "output_type": "stream",
     "text": [
      "3 {'name': 'Yerlan', 'num': 42, 'spanish_inquisition': None}\n"
     ]
    }
   ],
   "source": [
    "def packer(a,**kwargs):\n",
    "    print(a,kwargs)\n",
    "# kwargs ==> keyword arguments\n",
    "# PACKING INTO DICTIONARIES\n",
    "packer(3,name = \"Yerlan\", num = 42, spanish_inquisition = None)"
   ]
  },
  {
   "cell_type": "code",
   "execution_count": 7,
   "metadata": {},
   "outputs": [],
   "source": [
    "def unpacker(first_name = None,last_name = None):\n",
    "    if first_name and last_name:\n",
    "        print(\"Hi {} {}!\".format(first_name,last_name))\n",
    "    else:\n",
    "        print(\"No name\")\n"
   ]
  },
  {
   "cell_type": "code",
   "execution_count": 8,
   "metadata": {},
   "outputs": [
    {
     "name": "stdout",
     "output_type": "stream",
     "text": [
      "Hi Kenneth Love!\n"
     ]
    }
   ],
   "source": [
    "unpacker(**{'last_name':'Love','first_name':'Kenneth'})"
   ]
  },
  {
   "cell_type": "code",
   "execution_count": 9,
   "metadata": {},
   "outputs": [
    {
     "data": {
      "text/plain": [
       "\"Hi, I'm Kenneth and I love to eat tacos!\""
      ]
     },
     "execution_count": 9,
     "metadata": {},
     "output_type": "execute_result"
    }
   ],
   "source": [
    "\"Hi, I'm {name} and I love to eat {food}!\".format(name=\"Kenneth\", food=\"tacos\")"
   ]
  },
  {
   "cell_type": "markdown",
   "metadata": {},
   "source": [
    "# Dictionary Iteration"
   ]
  },
  {
   "cell_type": "code",
   "execution_count": 10,
   "metadata": {},
   "outputs": [],
   "source": [
    "course_minutes = {\"Python Basics\":232,\"Django Basics\":256,\"Flask Basics\":183,\"Java Basics\":256}"
   ]
  },
  {
   "cell_type": "code",
   "execution_count": 11,
   "metadata": {},
   "outputs": [
    {
     "name": "stdout",
     "output_type": "stream",
     "text": [
      "Python Basics\n",
      "Django Basics\n",
      "Flask Basics\n",
      "Java Basics\n"
     ]
    }
   ],
   "source": [
    "for course in course_minutes:\n",
    "    print(course)\n",
    "## output is KEYS"
   ]
  },
  {
   "cell_type": "code",
   "execution_count": 13,
   "metadata": {},
   "outputs": [
    {
     "name": "stdout",
     "output_type": "stream",
     "text": [
      "232\n",
      "256\n",
      "183\n",
      "256\n"
     ]
    }
   ],
   "source": [
    "for course in course_minutes:\n",
    "    print(course_minutes[course])\n",
    "# output is VALUES"
   ]
  },
  {
   "cell_type": "code",
   "execution_count": 14,
   "metadata": {},
   "outputs": [
    {
     "name": "stdout",
     "output_type": "stream",
     "text": [
      "Python Basics\n",
      "Django Basics\n",
      "Flask Basics\n",
      "Java Basics\n"
     ]
    }
   ],
   "source": [
    "for keys in course_minutes.keys():\n",
    "    print(keys)"
   ]
  },
  {
   "cell_type": "code",
   "execution_count": 15,
   "metadata": {},
   "outputs": [
    {
     "name": "stdout",
     "output_type": "stream",
     "text": [
      "232\n",
      "256\n",
      "183\n",
      "256\n"
     ]
    }
   ],
   "source": [
    "for values in course_minutes.values():\n",
    "    print(values)"
   ]
  },
  {
   "cell_type": "code",
   "execution_count": 16,
   "metadata": {},
   "outputs": [
    {
     "name": "stdout",
     "output_type": "stream",
     "text": [
      "('Python Basics', 232)\n",
      "('Django Basics', 256)\n",
      "('Flask Basics', 183)\n",
      "('Java Basics', 256)\n"
     ]
    }
   ],
   "source": [
    "for item in course_minutes.items():\n",
    "    print(item)"
   ]
  },
  {
   "cell_type": "code",
   "execution_count": 17,
   "metadata": {},
   "outputs": [],
   "source": [
    "def favorite_food(dict):\n",
    "    return \"Hi, I'm {name} and I love to eat {food}!\".format()"
   ]
  },
  {
   "cell_type": "markdown",
   "metadata": {},
   "source": [
    "# Word count exercise"
   ]
  },
  {
   "cell_type": "code",
   "execution_count": 73,
   "metadata": {},
   "outputs": [],
   "source": [
    "some_words = \"Hello people I like like you you so much\"\n",
    "def word_count(words):\n",
    "    keys = words.lower().split()\n",
    "    dict_values = []\n",
    "    position = 0\n",
    "    for key in keys:\n",
    "        values = keys.count(keys[position])\n",
    "        position = position + 1\n",
    "        dict_values.append(values)\n",
    "    dictionary = dict(zip(keys, dict_values))\n",
    "    print(dictionary)\n"
   ]
  },
  {
   "cell_type": "code",
   "execution_count": 44,
   "metadata": {},
   "outputs": [
    {
     "name": "stdout",
     "output_type": "stream",
     "text": [
      "['hello', 'people', 'i', 'like', 'like', 'you']\n"
     ]
    }
   ],
   "source": [
    "# E.g. word_count(\"I do not like it Sam I Am\") gets back a dictionary like:\n",
    "# {'i': 2, 'do': 1, 'it': 1, 'sam': 1, 'like': 1, 'not': 1, 'am': 1}\n",
    "# Lowercase the string to make it easier.a\n",
    "\n"
   ]
  },
  {
   "cell_type": "code",
   "execution_count": 74,
   "metadata": {},
   "outputs": [
    {
     "name": "stdout",
     "output_type": "stream",
     "text": [
      "{'hello': 1, 'people': 1, 'i': 1, 'like': 2, 'you': 2, 'so': 1, 'much': 1}\n"
     ]
    }
   ],
   "source": [
    "word_count(some_words)"
   ]
  },
  {
   "cell_type": "code",
   "execution_count": 61,
   "metadata": {},
   "outputs": [],
   "source": [
    "dict_values = []\n"
   ]
  },
  {
   "cell_type": "code",
   "execution_count": 62,
   "metadata": {},
   "outputs": [
    {
     "name": "stdout",
     "output_type": "stream",
     "text": [
      "[1, 1, 1, 2, 2, 1]\n"
     ]
    }
   ],
   "source": [
    "position = 0\n",
    "for key in keys:\n",
    "    values = keys.count(keys[position])\n",
    "    position = position + 1\n",
    "    dict_values.append(values)\n",
    "print(dict_values)\n",
    "    "
   ]
  },
  {
   "cell_type": "code",
   "execution_count": 63,
   "metadata": {},
   "outputs": [
    {
     "name": "stdout",
     "output_type": "stream",
     "text": [
      "{'hello': 1, 'people': 1, 'i': 1, 'like': 2, 'you': 1}\n"
     ]
    }
   ],
   "source": [
    "#>>> values = [1, 2, 3]\n",
    "dictionary = dict(zip(keys, dict_values))\n",
    "print(dictionary)\n",
    "#{'a': 1, 'b': 2, 'c': 3}"
   ]
  },
  {
   "cell_type": "code",
   "execution_count": 32,
   "metadata": {},
   "outputs": [
    {
     "data": {
      "text/plain": [
       "4"
      ]
     },
     "execution_count": 32,
     "metadata": {},
     "output_type": "execute_result"
    }
   ],
   "source": [
    "[1, 2, 3, 4, 1, 4, 1,1].count(1)\n"
   ]
  },
  {
   "cell_type": "markdown",
   "metadata": {},
   "source": [
    "# Teacher Stats"
   ]
  },
  {
   "cell_type": "code",
   "execution_count": 21,
   "metadata": {},
   "outputs": [],
   "source": [
    "# The dictionary will look something like:\n",
    "# {'Andrew Chalkley': ['jQuery Basics', 'Node.js Basics'],\n",
    "#  'Kenneth Love': ['Python Basics', 'Python Collections']}\n",
    "#\n",
    "# Each key will be a Teacher and the value will be a list of courses.\n",
    "#\n",
    "# Your code goes below here.\n",
    "teacher_courses = {'Andrew Chalkley': ['jQuery Basics', 'Node.js Basics'],\n",
    "                   'Kenneth Love': ['Python Basics', 'Python Collections'],\n",
    "                   'Jake Mon':['GIT','Console','Python']\n",
    "                  }"
   ]
  },
  {
   "cell_type": "code",
   "execution_count": 22,
   "metadata": {},
   "outputs": [],
   "source": [
    "def num_teachers(teacher_and_courses):\n",
    "    teachers = []\n",
    "    for keys in teacher_and_courses.keys():\n",
    "        teachers.append(keys)\n",
    "    print(len(teachers))\n",
    "    "
   ]
  },
  {
   "cell_type": "code",
   "execution_count": 23,
   "metadata": {},
   "outputs": [
    {
     "name": "stdout",
     "output_type": "stream",
     "text": [
      "3\n"
     ]
    }
   ],
   "source": [
    "num_teachers(teacher_courses)"
   ]
  },
  {
   "cell_type": "code",
   "execution_count": 24,
   "metadata": {},
   "outputs": [],
   "source": [
    "def num_courses(number_courses):\n",
    "    courses = []\n",
    "    for coursess in number_courses.values():\n",
    "        for course in coursess:\n",
    "            courses.append(course)\n",
    "    return len(courses)"
   ]
  },
  {
   "cell_type": "code",
   "execution_count": 25,
   "metadata": {},
   "outputs": [
    {
     "data": {
      "text/plain": [
       "7"
      ]
     },
     "execution_count": 25,
     "metadata": {},
     "output_type": "execute_result"
    }
   ],
   "source": [
    "num_courses(teacher_courses)"
   ]
  },
  {
   "cell_type": "code",
   "execution_count": 26,
   "metadata": {},
   "outputs": [],
   "source": [
    "def courses(list_courses):\n",
    "    courses = []\n",
    "    for coursess in list_courses.values():\n",
    "        for course in coursess:\n",
    "            courses.append(course)\n",
    "    return courses"
   ]
  },
  {
   "cell_type": "code",
   "execution_count": 27,
   "metadata": {},
   "outputs": [
    {
     "data": {
      "text/plain": [
       "['jQuery Basics',\n",
       " 'Node.js Basics',\n",
       " 'Python Basics',\n",
       " 'Python Collections',\n",
       " 'GIT',\n",
       " 'Console',\n",
       " 'Python']"
      ]
     },
     "execution_count": 27,
     "metadata": {},
     "output_type": "execute_result"
    }
   ],
   "source": [
    "courses(teacher_courses)"
   ]
  },
  {
   "cell_type": "code",
   "execution_count": 18,
   "metadata": {},
   "outputs": [],
   "source": [
    "teacher_courses = {'Andrew Chalkley': ['jQuery Basics', 'Node.js Basics'],\n",
    "                   'Kenneth Love': ['Python Basics', 'Python Collections'],\n",
    "                   'Jake Mon':['GIT','Console','Python']\n",
    "                  }"
   ]
  },
  {
   "cell_type": "code",
   "execution_count": 49,
   "metadata": {},
   "outputs": [
    {
     "name": "stdout",
     "output_type": "stream",
     "text": [
      "3\n"
     ]
    }
   ],
   "source": [
    "co = []\n",
    "for courses in teacher_courses.values():\n",
    "    co.append(int(len(courses)))\n",
    "print(max(co))\n",
    "    "
   ]
  },
  {
   "cell_type": "code",
   "execution_count": 56,
   "metadata": {},
   "outputs": [
    {
     "name": "stdout",
     "output_type": "stream",
     "text": [
      "['Andrew Chalkley', 'Kenneth Love', 'Jake Mon']\n"
     ]
    }
   ],
   "source": [
    "teachers_list = []\n",
    "for teachers in teacher_courses.keys():\n",
    "    teachers_list.append(teachers)\n",
    "print(teachers_list)\n",
    "    "
   ]
  },
  {
   "cell_type": "code",
   "execution_count": 54,
   "metadata": {},
   "outputs": [
    {
     "name": "stdout",
     "output_type": "stream",
     "text": [
      "[2, 2, 3]\n"
     ]
    }
   ],
   "source": [
    "print(co)"
   ]
  },
  {
   "cell_type": "code",
   "execution_count": 57,
   "metadata": {},
   "outputs": [
    {
     "name": "stdout",
     "output_type": "stream",
     "text": [
      "{'Andrew Chalkley': 2, 'Kenneth Love': 2, 'Jake Mon': 3}\n"
     ]
    }
   ],
   "source": [
    "dictionary = dict(zip(teachers_list, co))\n",
    "print(dictionary)"
   ]
  },
  {
   "cell_type": "code",
   "execution_count": 62,
   "metadata": {},
   "outputs": [],
   "source": [
    "def most_courses(teacher_courses):\n",
    "    co = []\n",
    "    for courses in teacher_courses.values():\n",
    "        co.append(int(len(courses)))\n",
    "    teachers_list = []\n",
    "    for teachers in teacher_courses.keys():\n",
    "        teachers_list.append(teachers)\n",
    "    dictionary = dict(zip(teachers_list, co)) \n",
    "        \n",
    "    v=list(dictionary.values())\n",
    "    k=list(dictionary.keys())\n",
    "    return k[v.index(max(v))]"
   ]
  },
  {
   "cell_type": "code",
   "execution_count": 63,
   "metadata": {},
   "outputs": [
    {
     "data": {
      "text/plain": [
       "'Jake Mon'"
      ]
     },
     "execution_count": 63,
     "metadata": {},
     "output_type": "execute_result"
    }
   ],
   "source": [
    "most_courses(teacher_courses)"
   ]
  },
  {
   "cell_type": "code",
   "execution_count": 64,
   "metadata": {},
   "outputs": [],
   "source": [
    "v=list(dictionary.values())"
   ]
  },
  {
   "cell_type": "code",
   "execution_count": 65,
   "metadata": {},
   "outputs": [
    {
     "name": "stdout",
     "output_type": "stream",
     "text": [
      "[2, 2, 3]\n"
     ]
    }
   ],
   "source": [
    "print(v)"
   ]
  },
  {
   "cell_type": "code",
   "execution_count": 78,
   "metadata": {},
   "outputs": [
    {
     "name": "stdout",
     "output_type": "stream",
     "text": [
      "[('Andrew Chalkley', 2), ('Kenneth Love', 2), ('Jake Mon', 3)]\n"
     ]
    }
   ],
   "source": [
    "print(new_list)"
   ]
  },
  {
   "cell_type": "code",
   "execution_count": 79,
   "metadata": {},
   "outputs": [
    {
     "data": {
      "text/plain": [
       "<map at 0x10793d3c8>"
      ]
     },
     "execution_count": 79,
     "metadata": {},
     "output_type": "execute_result"
    }
   ],
   "source": [
    "map(list, dictionary.items())"
   ]
  },
  {
   "cell_type": "code",
   "execution_count": 84,
   "metadata": {},
   "outputs": [],
   "source": [
    "neww_list = []\n",
    "\n",
    "for item in dictionary.items():\n",
    "    neww_list.append(item)"
   ]
  },
  {
   "cell_type": "code",
   "execution_count": 85,
   "metadata": {},
   "outputs": [
    {
     "data": {
      "text/plain": [
       "[('Andrew Chalkley', 2), ('Kenneth Love', 2), ('Jake Mon', 3)]"
      ]
     },
     "execution_count": 85,
     "metadata": {},
     "output_type": "execute_result"
    }
   ],
   "source": [
    "neww_list"
   ]
  },
  {
   "cell_type": "code",
   "execution_count": 86,
   "metadata": {},
   "outputs": [
    {
     "data": {
      "text/plain": [
       "[2, 2, 3]"
      ]
     },
     "execution_count": 86,
     "metadata": {},
     "output_type": "execute_result"
    }
   ],
   "source": [
    "co"
   ]
  },
  {
   "cell_type": "code",
   "execution_count": 87,
   "metadata": {},
   "outputs": [
    {
     "data": {
      "text/plain": [
       "['Andrew Chalkley', 'Kenneth Love', 'Jake Mon']"
      ]
     },
     "execution_count": 87,
     "metadata": {},
     "output_type": "execute_result"
    }
   ],
   "source": [
    "teachers_list"
   ]
  },
  {
   "cell_type": "code",
   "execution_count": 92,
   "metadata": {},
   "outputs": [],
   "source": [
    "newww_list = []\n",
    "for each in list(zip(teachers_list, co)):\n",
    "    l = list(each)\n",
    "    newww_list.append(l)\n",
    "    "
   ]
  },
  {
   "cell_type": "code",
   "execution_count": 93,
   "metadata": {},
   "outputs": [
    {
     "data": {
      "text/plain": [
       "[['Andrew Chalkley', 2], ['Kenneth Love', 2], ['Jake Mon', 3]]"
      ]
     },
     "execution_count": 93,
     "metadata": {},
     "output_type": "execute_result"
    }
   ],
   "source": [
    "newww_list"
   ]
  },
  {
   "cell_type": "code",
   "execution_count": 94,
   "metadata": {},
   "outputs": [],
   "source": [
    "def stats(teacher_courses):\n",
    "    v=list(dictionary.values())\n",
    "    k=list(dictionary.keys())\n",
    "    newww_list = []\n",
    "    for each in list(zip(k, v)):\n",
    "        l = list(each)\n",
    "        newww_list.append(l)\n",
    "    return(newww_list)\n",
    "    "
   ]
  },
  {
   "cell_type": "code",
   "execution_count": 95,
   "metadata": {},
   "outputs": [
    {
     "data": {
      "text/plain": [
       "[['Andrew Chalkley', 2], ['Kenneth Love', 2], ['Jake Mon', 3]]"
      ]
     },
     "execution_count": 95,
     "metadata": {},
     "output_type": "execute_result"
    }
   ],
   "source": [
    "stats(teacher_courses)"
   ]
  },
  {
   "cell_type": "code",
   "execution_count": null,
   "metadata": {},
   "outputs": [],
   "source": []
  }
 ],
 "metadata": {
  "kernelspec": {
   "display_name": "Python 3",
   "language": "python",
   "name": "python3"
  },
  "language_info": {
   "codemirror_mode": {
    "name": "ipython",
    "version": 3
   },
   "file_extension": ".py",
   "mimetype": "text/x-python",
   "name": "python",
   "nbconvert_exporter": "python",
   "pygments_lexer": "ipython3",
   "version": "3.6.5"
  }
 },
 "nbformat": 4,
 "nbformat_minor": 2
}
