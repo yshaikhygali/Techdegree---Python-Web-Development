{
 "cells": [
  {
   "cell_type": "code",
   "execution_count": 2,
   "metadata": {},
   "outputs": [
    {
     "name": "stdout",
     "output_type": "stream",
     "text": [
      "What words can you find in the word'treehouse'\n",
      "(Enter Q to quit)\n",
      "0 words > tree\n",
      "1 words > house\n",
      "2 words > set\n",
      "3 words > q\n",
      "What words can you find in the word'treehouse'\n",
      "(Enter Q to quit)\n",
      "0 words > tree\n",
      "1 words > set\n",
      "2 words > hot\n",
      "3 words > sour\n",
      "4 words > q\n",
      "Player 1 results:\n",
      "3 guesses, 1 unique\n",
      "* house\n",
      "----------\n",
      "Player 2 results:\n",
      "4 guesses, 2 unique\n",
      "* sour\n",
      "* hot\n",
      "Shared guesses:\n",
      "* tree\n",
      "* set\n"
     ]
    }
   ],
   "source": [
    "import random\n",
    "\n",
    "WORDS = (\"treehouse\",\n",
    "        \"python\",\n",
    "        \"learner\")\n",
    "\n",
    "def prompt_for_words(challenge):\n",
    "    guesses = set()\n",
    "    print(\"What words can you find in the word'{}'\".format(challenge))\n",
    "    print(\"(Enter Q to quit)\")\n",
    "    while True:\n",
    "        guess = input(\"{} words > \".format(len(guesses)))\n",
    "        if guess.upper() == 'Q':\n",
    "            break\n",
    "        guesses.add(guess.lower())\n",
    "    return guesses\n",
    "\n",
    "def output_results(results):\n",
    "    for word in results:\n",
    "        print(\"* \"+word)\n",
    "        \n",
    "challenge_word = random.choice(WORDS)\n",
    "player1_words = prompt_for_words(challenge_word)\n",
    "player2_words = prompt_for_words(challenge_word)\n",
    "\n",
    "print(\"Player 1 results:\")\n",
    "player1_unique = player1_words-player2_words\n",
    "print(\"{} guesses, {} unique\".format(len(player1_words),len(player1_unique)))\n",
    "output_results(player1_unique)\n",
    "print(\"-\"*10)\n",
    "\n",
    "print(\"Player 2 results:\")\n",
    "player2_unique = player2_words-player1_words\n",
    "print(\"{} guesses, {} unique\".format(len(player2_words),len(player2_unique)))\n",
    "output_results(player2_unique)\n",
    "\n",
    "print(\"Shared guesses:\")\n",
    "shared_words = player1_words & player2_words\n",
    "output_results(shared_words)\n",
    "\n",
    "    "
   ]
  },
  {
   "cell_type": "code",
   "execution_count": null,
   "metadata": {},
   "outputs": [],
   "source": []
  }
 ],
 "metadata": {
  "kernelspec": {
   "display_name": "Python 3",
   "language": "python",
   "name": "python3"
  },
  "language_info": {
   "codemirror_mode": {
    "name": "ipython",
    "version": 3
   },
   "file_extension": ".py",
   "mimetype": "text/x-python",
   "name": "python",
   "nbconvert_exporter": "python",
   "pygments_lexer": "ipython3",
   "version": "3.6.5"
  }
 },
 "nbformat": 4,
 "nbformat_minor": 2
}
