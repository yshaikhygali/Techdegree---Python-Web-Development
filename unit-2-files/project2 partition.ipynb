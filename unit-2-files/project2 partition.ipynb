{
 "cells": [
  {
   "cell_type": "code",
   "execution_count": 1,
   "metadata": {},
   "outputs": [
    {
     "name": "stdout",
     "output_type": "stream",
     "text": [
      "b\n"
     ]
    }
   ],
   "source": [
    "import random\n",
    "\n",
    "foo = ['a', 'b', 'c', 'd', 'e']\n",
    "print(random.choice(foo))\n"
   ]
  },
  {
   "cell_type": "code",
   "execution_count": 34,
   "metadata": {},
   "outputs": [],
   "source": [
    "experience_yes = [['Joe Smith', 'YES', 'Jim and Jan Smith'],\n",
    "['Jill Tanner', 'YES', 'Clara Tanner'],\n",
    "['Bill Bon', 'YES', 'Sara and Jenny Bon'],\n",
    "['Karl Saygan', 'YES', 'Heather Bledsoe'],\n",
    "['Suzane Greenberg', 'YES', 'Henrietta Dumas'],\n",
    "['Diego Soto', 'YES', 'Robin and Sarika Soto'],\n",
    "['Phillip Helm', 'YES', 'Thomas Helm and Eva Jones'],\n",
    "['Les Clay', 'YES', 'Wynonna Brown'],\n",
    "['Herschel Krustofski', 'YES', 'Hyman and Rachel Krustofski']]\n",
    "\n",
    "experience_no = [['Eva Gordon', 'NO', 'Wendy and Mike Gordon'],\n",
    "['Matt Gill', 'NO', 'Charles and Sylvia Gill'],\n",
    "['Kimmy Stein', 'NO', 'Bill and Hillary Stein'],\n",
    "['Sammy Adams', 'NO', 'Jeff Adams'],\n",
    "['Sal Dali', 'NO', 'Gala Dali'],\n",
    "['Joe Kavalier', 'NO', 'Sam and Elaine Kavalier'],\n",
    "['Ben Finkelstein', 'NO', 'Aaron and Jill Finkelstein'],\n",
    "['Chloe Alaska', 'NO', 'David and Jamie Alaska'],\n",
    "['Arnold Willis', 'NO', 'Claire Willis']]\n",
    "\n",
    "group1 = []\n",
    "group2 = []\n",
    "group3 = []"
   ]
  },
  {
   "cell_type": "code",
   "execution_count": 4,
   "metadata": {},
   "outputs": [],
   "source": [
    "group1.append(random.choice(experience_yes))"
   ]
  },
  {
   "cell_type": "code",
   "execution_count": 5,
   "metadata": {},
   "outputs": [
    {
     "data": {
      "text/plain": [
       "[['Bill Bon', 'YES', 'Sara and Jenny Bon']]"
      ]
     },
     "execution_count": 5,
     "metadata": {},
     "output_type": "execute_result"
    }
   ],
   "source": [
    "group1"
   ]
  },
  {
   "cell_type": "code",
   "execution_count": 12,
   "metadata": {},
   "outputs": [],
   "source": [
    "import random \n",
    "    \n",
    "def random_partition (list_in, n):\n",
    "    random.shuffle(list_in)\n",
    "    return [list_in[i::n] for i in range(n)]"
   ]
  },
  {
   "cell_type": "code",
   "execution_count": 13,
   "metadata": {},
   "outputs": [],
   "source": [
    "lst = [1,3,4,5,6,7,8,6,9]\n",
    "\n",
    "def partition(lst, n):\n",
    "    division = len(lst) / n\n",
    "    return [lst[round(division * i):round(division * (i + 1))] for i in range(n)]"
   ]
  },
  {
   "cell_type": "code",
   "execution_count": 14,
   "metadata": {},
   "outputs": [
    {
     "data": {
      "text/plain": [
       "[[1, 3, 4], [5, 6, 7], [8, 6, 9]]"
      ]
     },
     "execution_count": 14,
     "metadata": {},
     "output_type": "execute_result"
    }
   ],
   "source": [
    "partition(lst,3)"
   ]
  },
  {
   "cell_type": "code",
   "execution_count": 25,
   "metadata": {},
   "outputs": [
    {
     "data": {
      "text/plain": [
       "[[['Kimmy Stein', 'NO', 'Bill and Hillary Stein'],\n",
       "  ['Sammy Adams', 'NO', 'Jeff Adams'],\n",
       "  ['Arnold Willis', 'NO', 'Claire Willis']],\n",
       " [['Sal Dali', 'NO', 'Gala Dali'],\n",
       "  ['Ben Finkelstein', 'NO', 'Aaron and Jill Finkelstein'],\n",
       "  ['Chloe Alaska', 'NO', 'David and Jamie Alaska']],\n",
       " [['Joe Kavalier', 'NO', 'Sam and Elaine Kavalier'],\n",
       "  ['Matt Gill', 'NO', 'Charles and Sylvia Gill'],\n",
       "  ['Eva Gordon', 'NO', 'Wendy and Mike Gordon']]]"
      ]
     },
     "execution_count": 25,
     "metadata": {},
     "output_type": "execute_result"
    }
   ],
   "source": [
    "partition(experience_no,3)"
   ]
  },
  {
   "cell_type": "code",
   "execution_count": 32,
   "metadata": {},
   "outputs": [],
   "source": [
    "x = partition(experience_yes,3)"
   ]
  },
  {
   "cell_type": "code",
   "execution_count": 40,
   "metadata": {},
   "outputs": [
    {
     "data": {
      "text/plain": [
       "[[['Eva Gordon', 'NO', 'Wendy and Mike Gordon'],\n",
       "  ['Matt Gill', 'NO', 'Charles and Sylvia Gill'],\n",
       "  ['Kimmy Stein', 'NO', 'Bill and Hillary Stein']],\n",
       " [['Joe Smith', 'YES', 'Jim and Jan Smith'],\n",
       "  ['Jill Tanner', 'YES', 'Clara Tanner'],\n",
       "  ['Bill Bon', 'YES', 'Sara and Jenny Bon']]]"
      ]
     },
     "execution_count": 40,
     "metadata": {},
     "output_type": "execute_result"
    }
   ],
   "source": [
    "group1 = []\n",
    "group1.append(partition(experience_no,3)[0])\n",
    "group1.append(partition(experience_yes,3)[0])\n",
    "group1"
   ]
  },
  {
   "cell_type": "code",
   "execution_count": 41,
   "metadata": {},
   "outputs": [
    {
     "data": {
      "text/plain": [
       "[[['Sammy Adams', 'NO', 'Jeff Adams'],\n",
       "  ['Sal Dali', 'NO', 'Gala Dali'],\n",
       "  ['Joe Kavalier', 'NO', 'Sam and Elaine Kavalier']],\n",
       " [['Karl Saygan', 'YES', 'Heather Bledsoe'],\n",
       "  ['Suzane Greenberg', 'YES', 'Henrietta Dumas'],\n",
       "  ['Diego Soto', 'YES', 'Robin and Sarika Soto']]]"
      ]
     },
     "execution_count": 41,
     "metadata": {},
     "output_type": "execute_result"
    }
   ],
   "source": [
    "group2 = []\n",
    "group2.append(partition(experience_no,3)[1])\n",
    "group2.append(partition(experience_yes,3)[1])\n",
    "group2"
   ]
  },
  {
   "cell_type": "code",
   "execution_count": 42,
   "metadata": {},
   "outputs": [
    {
     "data": {
      "text/plain": [
       "[[['Ben Finkelstein', 'NO', 'Aaron and Jill Finkelstein'],\n",
       "  ['Chloe Alaska', 'NO', 'David and Jamie Alaska'],\n",
       "  ['Arnold Willis', 'NO', 'Claire Willis']],\n",
       " [['Phillip Helm', 'YES', 'Thomas Helm and Eva Jones'],\n",
       "  ['Les Clay', 'YES', 'Wynonna Brown'],\n",
       "  ['Herschel Krustofski', 'YES', 'Hyman and Rachel Krustofski']]]"
      ]
     },
     "execution_count": 42,
     "metadata": {},
     "output_type": "execute_result"
    }
   ],
   "source": [
    "group3 = []\n",
    "group3.append(partition(experience_no,3)[2])\n",
    "group3.append(partition(experience_yes,3)[2])\n",
    "group3"
   ]
  },
  {
   "cell_type": "code",
   "execution_count": 48,
   "metadata": {},
   "outputs": [
    {
     "data": {
      "text/plain": [
       "'Bill Bon'"
      ]
     },
     "execution_count": 48,
     "metadata": {},
     "output_type": "execute_result"
    }
   ],
   "source": [
    "group1[1][2][0]"
   ]
  },
  {
   "cell_type": "code",
   "execution_count": 49,
   "metadata": {},
   "outputs": [],
   "source": [
    "list1 = ['1', '2', '3']\n",
    "str1 = ''.join(list1)"
   ]
  },
  {
   "cell_type": "code",
   "execution_count": 50,
   "metadata": {},
   "outputs": [
    {
     "data": {
      "text/plain": [
       "'123'"
      ]
     },
     "execution_count": 50,
     "metadata": {},
     "output_type": "execute_result"
    }
   ],
   "source": [
    "str1"
   ]
  },
  {
   "cell_type": "code",
   "execution_count": 51,
   "metadata": {},
   "outputs": [
    {
     "name": "stdout",
     "output_type": "stream",
     "text": [
      "spam, ham, eggs\n"
     ]
    }
   ],
   "source": [
    "mylist = ['spam', 'ham', 'eggs']\n",
    "print(', '.join(mylist))"
   ]
  },
  {
   "cell_type": "code",
   "execution_count": null,
   "metadata": {},
   "outputs": [],
   "source": []
  }
 ],
 "metadata": {
  "kernelspec": {
   "display_name": "Python 3",
   "language": "python",
   "name": "python3"
  },
  "language_info": {
   "codemirror_mode": {
    "name": "ipython",
    "version": 3
   },
   "file_extension": ".py",
   "mimetype": "text/x-python",
   "name": "python",
   "nbconvert_exporter": "python",
   "pygments_lexer": "ipython3",
   "version": "3.6.5"
  }
 },
 "nbformat": 4,
 "nbformat_minor": 2
}
